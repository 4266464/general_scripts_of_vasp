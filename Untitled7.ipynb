{
 "cells": [
  {
   "cell_type": "code",
   "execution_count": 2,
   "id": "c044d8c4-cfcd-4735-b0db-c83abc907e93",
   "metadata": {},
   "outputs": [
    {
     "ename": "NameError",
     "evalue": "name 'match_times' is not defined",
     "output_type": "error",
     "traceback": [
      "\u001b[1;31m---------------------------------------------------------------------------\u001b[0m",
      "\u001b[1;31mNameError\u001b[0m                                 Traceback (most recent call last)",
      "Cell \u001b[1;32mIn[2], line 58\u001b[0m\n\u001b[0;32m     55\u001b[0m     \u001b[38;5;28;01mreturn\u001b[39;00m procar_list\n\u001b[0;32m     57\u001b[0m \u001b[38;5;28;01mif\u001b[39;00m \u001b[38;5;18m__name__\u001b[39m\u001b[38;5;241m==\u001b[39m\u001b[38;5;124m\"\u001b[39m\u001b[38;5;124m__main__\u001b[39m\u001b[38;5;124m\"\u001b[39m:\n\u001b[1;32m---> 58\u001b[0m     \u001b[43mread_procar\u001b[49m\u001b[43m(\u001b[49m\u001b[38;5;124;43mr\u001b[39;49m\u001b[38;5;124;43m\"\u001b[39;49m\u001b[38;5;124;43mC:\u001b[39;49m\u001b[38;5;124;43m\\\u001b[39;49m\u001b[38;5;124;43mUsers\u001b[39;49m\u001b[38;5;124;43m\\\u001b[39;49m\u001b[38;5;124;43mdugue\u001b[39;49m\u001b[38;5;124;43m\\\u001b[39;49m\u001b[38;5;124;43mOneDrive\u001b[39;49m\u001b[38;5;124;43m\\\u001b[39;49m\u001b[38;5;124;43mvasp\u001b[39;49m\u001b[38;5;124;43m\\\u001b[39;49m\u001b[38;5;124;43m2cao\u001b[39;49m\u001b[38;5;124;43m\\\u001b[39;49m\u001b[38;5;124;43mpbe0_BiCa_0\u001b[39;49m\u001b[38;5;124;43m\"\u001b[39;49m\u001b[43m)\u001b[49m\n",
      "Cell \u001b[1;32mIn[2], line 27\u001b[0m, in \u001b[0;36mread_procar\u001b[1;34m(path)\u001b[0m\n\u001b[0;32m     25\u001b[0m \u001b[38;5;28;01melif\u001b[39;00m \u001b[38;5;124m\"\u001b[39m\u001b[38;5;124m s \u001b[39m\u001b[38;5;124m\"\u001b[39m \u001b[38;5;129;01min\u001b[39;00m i:\n\u001b[0;32m     26\u001b[0m     \u001b[38;5;28;01mif\u001b[39;00m \u001b[38;5;129;01mnot\u001b[39;00m spd_mode:\n\u001b[1;32m---> 27\u001b[0m         spd_mode \u001b[38;5;241m=\u001b[39m \u001b[43mmatch_times\u001b[49m(\u001b[38;5;124m\"\u001b[39m\u001b[38;5;124m\\\u001b[39m\u001b[38;5;124ms\u001b[39m\u001b[38;5;124m\"\u001b[39m, \u001b[38;5;124m\"\u001b[39m\u001b[38;5;124m[\u001b[39m\u001b[38;5;124m\\\u001b[39m\u001b[38;5;124mw\u001b[39m\u001b[38;5;124m\\\u001b[39m\u001b[38;5;124m-]\u001b[39m\u001b[38;5;124m\"\u001b[39m, i)\n\u001b[0;32m     28\u001b[0m         spd_pattern \u001b[38;5;241m=\u001b[39m re\u001b[38;5;241m.\u001b[39mcompile(\u001b[38;5;124m\"\u001b[39m\u001b[38;5;124m\\\u001b[39m\u001b[38;5;124ms+\u001b[39m\u001b[38;5;124m\"\u001b[39m\u001b[38;5;241m.\u001b[39mjoin([\u001b[38;5;124m\"\u001b[39m\u001b[38;5;124m([\u001b[39m\u001b[38;5;124m\\\u001b[39m\u001b[38;5;124md\u001b[39m\u001b[38;5;124m\\\u001b[39m\u001b[38;5;124m.]+)\u001b[39m\u001b[38;5;124m\"\u001b[39m \u001b[38;5;28;01mfor\u001b[39;00m j \u001b[38;5;129;01min\u001b[39;00m \u001b[38;5;28mrange\u001b[39m(\u001b[38;5;28mlen\u001b[39m(spd_mode))]))\n\u001b[0;32m     29\u001b[0m     spd_begin \u001b[38;5;241m=\u001b[39m \u001b[38;5;28;01mTrue\u001b[39;00m\n",
      "\u001b[1;31mNameError\u001b[0m: name 'match_times' is not defined"
     ]
    }
   ],
   "source": [
    "# %load procar.py\n",
    "import poscar\n",
    "import re\n",
    "from match_times import match_times\n",
    "\n",
    "def read_procar(path):\n",
    "    band_pattern = re.compile(\"band\\s+(\\d+) # energy\\s+([\\d\\.\\-]+) # occ.\\s+([\\d\\.]+)\")\n",
    "    p = poscar.Poscar(path + \"/CONTCAR\")\n",
    "    spd_mode = False\n",
    "    spd_begin = False\n",
    "    spd_dict = {}\n",
    "    current_band = {}\n",
    "    band_list = []\n",
    "    procar_list = []\n",
    "\n",
    "    with open(path + \"/PROCAR\", \"r\") as f:\n",
    "        for i in f.readlines():\n",
    "            # band行\n",
    "            if \"occ.\" in i:\n",
    "                current_band[\"num\"], current_band[\"energy\"], current_band[\"occ\"] = [float(j) for j in\n",
    "                                                                                    band_pattern.search(i).groups()]\n",
    "                if current_band[\"num\"] == 1 and band_list:\n",
    "                    procar_list.append(band_list)\n",
    "                    band_list = []\n",
    "            # ion行\n",
    "            elif \" s \" in i:\n",
    "                if not spd_mode:\n",
    "                    spd_mode = match_times(\"\\s\", \"[\\w\\-]\", i)\n",
    "                    spd_pattern = re.compile(\"\\s+\".join([\"([\\d\\.]+)\" for j in range(len(spd_mode))]))\n",
    "                spd_begin = True\n",
    "            elif spd_begin:\n",
    "                match_result = spd_pattern.search(i)\n",
    "                if match_result:\n",
    "                    # tot>0.01 获取主要部分\n",
    "                    if float(match_result.groups()[-1]) > 0.01:\n",
    "                        for j, k in zip(spd_mode[1:-1], match_result.groups()[1:-1]):\n",
    "                            # 投影>0.001 获取主要部分\n",
    "                            if float(k) > 0.001:\n",
    "                                component = (p.label[int(match_result.groups()[0]) - 1][0], j.replace(\"x\", \"d\")[0])\n",
    "                                if not component in spd_dict:\n",
    "                                    # spd_dict.append(component)\n",
    "                                    spd_dict[component] = float(k)\n",
    "                                else:\n",
    "                                    spd_dict[component] += float(k)\n",
    "                else:\n",
    "                    # 当前band结束\n",
    "                    spd_begin = False\n",
    "                    if spd_dict:\n",
    "                        for j in spd_dict:\n",
    "                            spd_dict[j] = round(spd_dict[j], 3)\n",
    "                    current_band[\"spd\"] = spd_dict\n",
    "                    spd_dict = {}\n",
    "                    band_list.append(current_band)\n",
    "                    current_band = {}\n",
    "        procar_list.append(band_list)\n",
    "    return procar_list\n",
    "\n",
    "if __name__==\"__main__\":\n",
    "    read_procar(r\"C:\\Users\\dugue\\OneDrive\\vasp\\2cao\\pbe0_BiCa_0\")"
   ]
  },
  {
   "cell_type": "code",
   "execution_count": null,
   "id": "9a626a68-352f-4629-ba35-2982f5deb211",
   "metadata": {},
   "outputs": [],
   "source": []
  }
 ],
 "metadata": {
  "kernelspec": {
   "display_name": "Python 3 (ipykernel)",
   "language": "python",
   "name": "python3"
  },
  "language_info": {
   "codemirror_mode": {
    "name": "ipython",
    "version": 3
   },
   "file_extension": ".py",
   "mimetype": "text/x-python",
   "name": "python",
   "nbconvert_exporter": "python",
   "pygments_lexer": "ipython3",
   "version": "3.10.9"
  }
 },
 "nbformat": 4,
 "nbformat_minor": 5
}
