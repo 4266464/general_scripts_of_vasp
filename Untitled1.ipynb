{
 "cells": [
  {
   "cell_type": "code",
   "execution_count": 2,
   "id": "eb3aaefd",
   "metadata": {},
   "outputs": [
    {
     "ename": "ModuleNotFoundError",
     "evalue": "No module named 'pymatgen'",
     "output_type": "error",
     "traceback": [
      "\u001b[1;31m---------------------------------------------------------------------------\u001b[0m",
      "\u001b[1;31mModuleNotFoundError\u001b[0m                       Traceback (most recent call last)",
      "\u001b[1;32m<ipython-input-2-2fa9689b01d8>\u001b[0m in \u001b[0;36m<module>\u001b[1;34m\u001b[0m\n\u001b[0;32m     10\u001b[0m \u001b[1;33m\u001b[0m\u001b[0m\n\u001b[0;32m     11\u001b[0m \u001b[1;32mimport\u001b[0m \u001b[0msys\u001b[0m\u001b[1;33m\u001b[0m\u001b[1;33m\u001b[0m\u001b[0m\n\u001b[1;32m---> 12\u001b[1;33m \u001b[1;32mfrom\u001b[0m \u001b[0mpymatgen\u001b[0m\u001b[1;33m.\u001b[0m\u001b[0mext\u001b[0m\u001b[1;33m.\u001b[0m\u001b[0mmatproj\u001b[0m \u001b[1;32mimport\u001b[0m \u001b[0mMPRester\u001b[0m\u001b[1;33m\u001b[0m\u001b[1;33m\u001b[0m\u001b[0m\n\u001b[0m",
      "\u001b[1;31mModuleNotFoundError\u001b[0m: No module named 'pymatgen'"
     ]
    }
   ],
   "source": [
    "# %load mp.py\n",
    "#!/home/phys/qif/anaconda3/bin/python\n",
    "\n",
    "# -*- coding: utf-8 -*-\n",
    "\"\"\"\n",
    "Created on Wed Jul 28 14:38:51 2021\n",
    "\n",
    "@author: dugue\n",
    "\"\"\"\n",
    "\n",
    "import sys\n",
    "from pymatgen.ext.matproj import MPRester"
   ]
  },
  {
   "cell_type": "code",
   "execution_count": 3,
   "id": "53716b7e",
   "metadata": {},
   "outputs": [],
   "source": [
    "# prop_list=['band_gap','cif','density','diel','e_above_hull','elasticity',\n",
    "#            'elements','energy','energy_per_atom',\n",
    "#            'formation_energy_per_atom','full_formula','hubbards',\n",
    "#            'icsd_id','icsd_ids','is_compatible','is_hubbard',\n",
    "#            'material_id','nelements','nsites','oxide_type','piezo',\n",
    "#            'pretty_formula','spacegroup','tags','task_ids',\n",
    "#            'total_magnetization','unit_cell_formula','volume']\n",
    "prop_list=['material_id',\n",
    "           'pretty_formula',\n",
    "           'energy_per_atom',\n",
    "           'formation_energy_per_atom',\n",
    "           'band_gap',\n",
    "           'symbol',\n",
    "           'point_group',\n",
    "           'total_magnetization']\n",
    "\n",
    "point_group_dict={\"1\":\"C1\",\n",
    "                  \"4\":\"C4\",\n",
    "                  \"2\":\"C2\",\n",
    "                  \"2/m\":\"C2h\",\n",
    "                  \"mm2\":\"C2v\",\n",
    "                  \"3\":\"C3\",\n",
    "                  \"-6\":\"C3h\",\n",
    "                  \"-3\":\"C3i\",\n",
    "                  \"3m\":\"C3v\",\n",
    "                  \"4/m\":\"C4h\",\n",
    "                  \"4mm\":\"C4v\",\n",
    "                  \"6\":\"C6\",\n",
    "                  \"6/m\":\"C6h\",\n",
    "                  \"6mm\":\"C6v\",\n",
    "                  \"-1\":\"Ci\",\n",
    "                  \"m\":\"Cs\",\n",
    "                  \"222\":\"D2\",\n",
    "                  \"-42m\":\"D2d\",\n",
    "                  \"mmm\":\"D2h\",\n",
    "                  \"32\":\"D3\",\n",
    "                  \"-3m\":\"D3d\",\n",
    "                  \"-6m2\":\"D3h\",\n",
    "                  \"422\":\"D4\",\n",
    "                  \"4/mmm\":\"D4h\",\n",
    "                  \"622\":\"D6\",\n",
    "                  \"6/mmm\":\"D6h\",\n",
    "                  \"432\":\"O\",\n",
    "                  \"m-3m\":\"Oh\",\n",
    "                  \"-4\":\"S4\",\n",
    "                  \"23\":\"T\",\n",
    "                  \"-43m\":\"Td\",\n",
    "                  \"m-3\":\"Th\"}"
   ]
  },
  {
   "cell_type": "code",
   "execution_count": 4,
   "id": "6ca28dae",
   "metadata": {},
   "outputs": [],
   "source": [
    "# 交互/非交互访问material project\n",
    "def matproj(formula):\n",
    "    with MPRester(\"VUswQqBEWe4VFBZD25\") as m:\n",
    "        prop_dict=[]\n",
    "        for i in m.get_data(formula):\n",
    "            prop_dict.append({})\n",
    "            for j in i:\n",
    "                if j==\"spacegroup\":\n",
    "                    prop_dict[-1][\"point_group\"]=point_group_dict[i[\"spacegroup\"][\"point_group\"]]\n",
    "                    prop_dict[-1][\"symbol\"]=i[\"spacegroup\"][\"symbol\"]\n",
    "                elif j in prop_list:\n",
    "                    if j==\"material_id\":\n",
    "                        m.get_structure_by_material_id(i[j],\n",
    "                                                       final=True,\n",
    "                                                       conventional_unit_cell=True).to(\"poscar\",formula+i[j].replace(\"mp\",\"\"))\n",
    "                    prop_dict[-1][j]=i[j]\n",
    "        \n",
    "    prop_dict.sort(key=lambda x:x['formation_energy_per_atom'])\n",
    "    \n",
    "    for i in prop_list:\n",
    "        print(\"%-10s\" %i[:10],end=\" \")\n",
    "    print()\n",
    "\n",
    "    for i in prop_dict:\n",
    "        for j in prop_list:\n",
    "            if type(i[j])==float:\n",
    "                i[j]=round(i[j],5)\n",
    "            print(\"%-10s\" %i[j],end=\" \")\n",
    "        print()\n",
    "    return None"
   ]
  },
  {
   "cell_type": "code",
   "execution_count": 5,
   "id": "8b7a7b32",
   "metadata": {},
   "outputs": [
    {
     "ename": "NameError",
     "evalue": "name 'MPRester' is not defined",
     "output_type": "error",
     "traceback": [
      "\u001b[1;31m---------------------------------------------------------------------------\u001b[0m",
      "\u001b[1;31mNameError\u001b[0m                                 Traceback (most recent call last)",
      "\u001b[1;32m<ipython-input-5-ee91f4dd965e>\u001b[0m in \u001b[0;36m<module>\u001b[1;34m\u001b[0m\n\u001b[1;32m----> 1\u001b[1;33m \u001b[0mmatproj\u001b[0m\u001b[1;33m(\u001b[0m\u001b[1;34m\"Eu-O\"\u001b[0m\u001b[1;33m)\u001b[0m\u001b[1;33m\u001b[0m\u001b[1;33m\u001b[0m\u001b[0m\n\u001b[0m",
      "\u001b[1;32m<ipython-input-4-ad69c94735b6>\u001b[0m in \u001b[0;36mmatproj\u001b[1;34m(formula)\u001b[0m\n\u001b[0;32m      1\u001b[0m \u001b[1;31m# 交互/非交互访问material project\u001b[0m\u001b[1;33m\u001b[0m\u001b[1;33m\u001b[0m\u001b[1;33m\u001b[0m\u001b[0m\n\u001b[0;32m      2\u001b[0m \u001b[1;32mdef\u001b[0m \u001b[0mmatproj\u001b[0m\u001b[1;33m(\u001b[0m\u001b[0mformula\u001b[0m\u001b[1;33m)\u001b[0m\u001b[1;33m:\u001b[0m\u001b[1;33m\u001b[0m\u001b[1;33m\u001b[0m\u001b[0m\n\u001b[1;32m----> 3\u001b[1;33m     \u001b[1;32mwith\u001b[0m \u001b[0mMPRester\u001b[0m\u001b[1;33m(\u001b[0m\u001b[1;34m\"VUswQqBEWe4VFBZD25\"\u001b[0m\u001b[1;33m)\u001b[0m \u001b[1;32mas\u001b[0m \u001b[0mm\u001b[0m\u001b[1;33m:\u001b[0m\u001b[1;33m\u001b[0m\u001b[1;33m\u001b[0m\u001b[0m\n\u001b[0m\u001b[0;32m      4\u001b[0m         \u001b[0mprop_dict\u001b[0m\u001b[1;33m=\u001b[0m\u001b[1;33m[\u001b[0m\u001b[1;33m]\u001b[0m\u001b[1;33m\u001b[0m\u001b[1;33m\u001b[0m\u001b[0m\n\u001b[0;32m      5\u001b[0m         \u001b[1;32mfor\u001b[0m \u001b[0mi\u001b[0m \u001b[1;32min\u001b[0m \u001b[0mm\u001b[0m\u001b[1;33m.\u001b[0m\u001b[0mget_data\u001b[0m\u001b[1;33m(\u001b[0m\u001b[0mformula\u001b[0m\u001b[1;33m)\u001b[0m\u001b[1;33m:\u001b[0m\u001b[1;33m\u001b[0m\u001b[1;33m\u001b[0m\u001b[0m\n",
      "\u001b[1;31mNameError\u001b[0m: name 'MPRester' is not defined"
     ]
    }
   ],
   "source": [
    "matproj(\"Eu-O\")"
   ]
  },
  {
   "cell_type": "code",
   "execution_count": null,
   "id": "7eedc2da",
   "metadata": {},
   "outputs": [],
   "source": []
  }
 ],
 "metadata": {
  "kernelspec": {
   "display_name": "Python 3",
   "language": "python",
   "name": "python3"
  },
  "language_info": {
   "codemirror_mode": {
    "name": "ipython",
    "version": 3
   },
   "file_extension": ".py",
   "mimetype": "text/x-python",
   "name": "python",
   "nbconvert_exporter": "python",
   "pygments_lexer": "ipython3",
   "version": "3.8.8"
  }
 },
 "nbformat": 4,
 "nbformat_minor": 5
}
